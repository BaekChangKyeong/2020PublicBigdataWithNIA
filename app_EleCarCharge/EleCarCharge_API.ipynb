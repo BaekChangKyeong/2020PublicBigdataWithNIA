{
 "cells": [
  {
   "cell_type": "code",
   "execution_count": 5,
   "metadata": {},
   "outputs": [],
   "source": [
    "# 필요한 패키지 import\n",
    "import requests\n",
    "from bs4 import BeautifulSoup\n",
    "import pandas as pd\n",
    "import os"
   ]
  },
  {
   "cell_type": "code",
   "execution_count": 6,
   "metadata": {},
   "outputs": [],
   "source": [
    "# 엑셀 저장 함수 정의\n",
    "def save_excel(df):\n",
    "    excel = pd.ExcelWriter('../data/elecarCharge.xlsx')\n",
    "    df.to_excel(excel, '.', index=False)\n",
    "    excel.save()"
   ]
  },
  {
   "cell_type": "code",
   "execution_count": 8,
   "metadata": {},
   "outputs": [],
   "source": [
    "# API key 가져오기 (보안을 위해 텍스트 파일로 따로 저장해둠)\n",
    "api_key_file = open('../data/API_key', 'r')\n",
    "api_key = api_key_file.readline()\n",
    "api_key_file.close()"
   ]
  },
  {
   "cell_type": "code",
   "execution_count": 9,
   "metadata": {},
   "outputs": [],
   "source": [
    "# 전역 변수 선언 (전체 레코드가 저장될 리스트)\n",
    "my_list = []"
   ]
  },
  {
   "cell_type": "code",
   "execution_count": 10,
   "metadata": {},
   "outputs": [],
   "source": [
    "# HTTP 통신으로 데이터 가져오기\n",
    "# 전체 리스트에 저장\n",
    "for page_n in range(1,3):\n",
    "    url = 'http://open.ev.or.kr:8080/openapi/services/EvCharger/getChargerInfo?serviceKey=' \\\n",
    "          + api_key + '&pageSize=' + str(120000) +'&pageNo=' + str(page_n)\n",
    "\n",
    "    res = requests.get(url)\n",
    "    soup = BeautifulSoup(res.content, 'html.parser')\n",
    "    data = soup.find_all('item')\n",
    "\n",
    "    for item in data:\n",
    "        my_list.append(pd.DataFrame({'충전소명':[item.find('statnm').text], '충전소ID':[item.find('statid').text],\n",
    "                                       '충전기ID':[item.find('chgerid').text], '충전기터입':[item.find('chgertype').text],\n",
    "                                       '주소':[item.find('addr').text], '위도':[item.find('lat').text],\n",
    "                                       '경도':[item.find('lng').text], '이용가능시간':[item.find('usetime').text],\n",
    "                                       '기관ID':[item.find('busiid').text], '기관명':[item.find('businm').text],\n",
    "                                       '기관연락처':[item.find('busicall').text], '충전기상태':[item.find('stat').text],\n",
    "                                       '갱신일시':[item.find('statupddt').text], '충전량':[item.find('powertype').text]}))"
   ]
  },
  {
   "cell_type": "code",
   "execution_count": 11,
   "metadata": {},
   "outputs": [],
   "source": [
    "# 전체 데이터프레임으로 병합\n",
    "df = pd.concat(my_list)\n",
    "# 인덱스 재정렬\n",
    "df.reset_index(drop=True, inplace=True)"
   ]
  },
  {
   "cell_type": "code",
   "execution_count": 12,
   "metadata": {
    "scrolled": true
   },
   "outputs": [
    {
     "name": "stdout",
     "output_type": "stream",
     "text": [
      "                   충전소명     충전소ID 충전기ID 충전기터입  \\\n",
      "0              종묘 공영주차장  ME000001    01    03   \n",
      "1             세종로 공영주차장  ME000002    01    06   \n",
      "2            그랜드앰배서더 서울  ME000003    01    06   \n",
      "3            한강진역 공영주차장  ME000004    01    03   \n",
      "4      마장동사무소 앞(공중전화부스)  ME000006    01    06   \n",
      "...                 ...       ...   ...   ...   \n",
      "17758          부강자동차공업사  PW011279    01    02   \n",
      "17759          부강자동차공업사  PW011279    02    02   \n",
      "17760               온수장  PW011292    01    02   \n",
      "17761             드라마오션  PW011949    01    02   \n",
      "17762             드라마오션  PW011949    02    02   \n",
      "\n",
      "                                           주소               위도  \\\n",
      "0           서울특별시 종로구 종로 157, 지하주차장 4층 하층 T구역        37.571076   \n",
      "1      서울특별시 종로구 세종대로 189, 지하주차장 4층 D구역 계단실 앞        37.573611   \n",
      "2                   서울특별시 중구 동호로 287, 대형버스주차장        37.559352   \n",
      "3               서울특별시 용산구 한남동 산10-84, 지상실외주차장        37.540085   \n",
      "4                           서울특별시 성동구 마장동 808       37.5660935   \n",
      "...                                       ...              ...   \n",
      "17758               제주특별자치도 서귀포시 성산읍 서성일로 904  33.438621166643   \n",
      "17759               제주특별자치도 서귀포시 성산읍 서성일로 904  33.438621166643   \n",
      "17760                      대구광역시 동구 동부로28길 17        35.874535   \n",
      "17761              제주특별자치도 제주시 애월읍 금성5길 42-15  33.448306081357   \n",
      "17762              제주특별자치도 제주시 애월읍 금성5길 42-15  33.448306081357   \n",
      "\n",
      "                   경도     이용가능시간 기관ID   기관명      기관연락처 충전기상태            갱신일시  \\\n",
      "0          126.995880  24시간 이용가능   ME   환경부  1661-9408     2  20200722123433   \n",
      "1          126.976011  24시간 이용가능   ME   환경부  1661-9408     2  20200722130124   \n",
      "2          127.002350  24시간 이용가능   ME   환경부  1661-9408     2  20200722010140   \n",
      "3          127.002804  24시간 이용가능   ME   환경부  1661-9408     2  20200722014805   \n",
      "4         127.0455256  24시간 이용가능   ME   환경부  1661-9408     3  20200722125333   \n",
      "...               ...        ...  ...   ...        ...   ...             ...   \n",
      "17758  126.8765175309  24시간 이용가능   PW  파워큐브  1833-8017     0                   \n",
      "17759  126.8765175309  24시간 이용가능   PW  파워큐브  1833-8017     0                   \n",
      "17760      128.628490  24시간 이용가능   PW  파워큐브  1833-8017     0  20190306203108   \n",
      "17761  126.3015608334  24시간 이용가능   PW  파워큐브  1833-8017     2  20200722032253   \n",
      "17762  126.3015608334  24시간 이용가능   PW  파워큐브  1833-8017     2  20200722100351   \n",
      "\n",
      "            충전량  \n",
      "0      급속(50kW)  \n",
      "1      급속(50kW)  \n",
      "2      급속(50kW)  \n",
      "3      급속(50kW)  \n",
      "4      급속(50kW)  \n",
      "...         ...  \n",
      "17758            \n",
      "17759            \n",
      "17760            \n",
      "17761            \n",
      "17762            \n",
      "\n",
      "[17763 rows x 14 columns]\n"
     ]
    }
   ],
   "source": [
    "# 전체 데이터프레임 확인\n",
    "print(df)"
   ]
  },
  {
   "cell_type": "code",
   "execution_count": 13,
   "metadata": {},
   "outputs": [],
   "source": [
    "# 전체 데이터프레임 엑셀로 저장\n",
    "save_excel(df)"
   ]
  }
 ],
 "metadata": {
  "kernelspec": {
   "display_name": "Python 3",
   "language": "python",
   "name": "python3"
  },
  "language_info": {
   "codemirror_mode": {
    "name": "ipython",
    "version": 3
   },
   "file_extension": ".py",
   "mimetype": "text/x-python",
   "name": "python",
   "nbconvert_exporter": "python",
   "pygments_lexer": "ipython3",
   "version": "3.7.4"
  }
 },
 "nbformat": 4,
 "nbformat_minor": 4
}

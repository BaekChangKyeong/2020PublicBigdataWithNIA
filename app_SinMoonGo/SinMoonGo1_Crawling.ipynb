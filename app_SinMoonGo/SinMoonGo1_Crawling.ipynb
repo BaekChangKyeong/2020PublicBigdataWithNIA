{
 "cells": [
  {
   "cell_type": "code",
   "execution_count": 1,
   "metadata": {},
   "outputs": [],
   "source": [
    "# 필요한 패키지 import\n",
    "from selenium.webdriver import Chrome, Firefox\n",
    "import pandas as pd\n",
    "from selenium import webdriver\n",
    "import sqlite3\n",
    "import os\n",
    "import time"
   ]
  },
  {
   "cell_type": "code",
   "execution_count": 2,
   "metadata": {},
   "outputs": [],
   "source": [
    "# 엑셀 저장 함수 정의\n",
    "def save_excel(df):\n",
    "    excel = pd.ExcelWriter('SinMoonGo.xlsx')\n",
    "    df.to_excel(excel, '.', index=False)\n",
    "    excel.save()"
   ]
  },
  {
   "cell_type": "code",
   "execution_count": 3,
   "metadata": {},
   "outputs": [],
   "source": [
    "# 전역 변수 선언 (전체 레코드가 병합될 데이터프레임, 전체 레코드가 저장될 리스트)\n",
    "ARTICLE_LIST = pd.DataFrame()\n",
    "df_list = []"
   ]
  },
  {
   "cell_type": "code",
   "execution_count": 5,
   "metadata": {},
   "outputs": [],
   "source": [
    "# 셀레니움 사용해 브라우저 열기\n",
    "options = webdriver.ChromeOptions()\n",
    "options.add_argument(\"--start-maximized\");\n",
    "browser = webdriver.Chrome('/Users/jaehyeob/venv_02/CrawlingScraping/chromedriver', options=options)\n",
    "\n",
    "browser.get('https://www.epeople.go.kr/nep/prpsl/opnPrpl/opnpblPrpslList.npaid')\n",
    "browser.implicitly_wait(5)"
   ]
  },
  {
   "cell_type": "code",
   "execution_count": 6,
   "metadata": {
    "scrolled": true
   },
   "outputs": [],
   "source": [
    "# 1 ~ 100 페이지 크롤링\n",
    "page_num = 1\n",
    "\n",
    "while page_num <= 100:\n",
    "    trs = browser.find_elements_by_xpath('//*[@id=\"frm\"]/table/tbody/tr')\n",
    "    for tr in trs:\n",
    "        df_list.append(pd.DataFrame({'TITLE' : [tr.find_element_by_xpath('td[2]/a').text]}))\n",
    "    # 버튼 클릭으로 페이지 이동\n",
    "    browser.find_element_by_xpath('//*[@id=\"frm\"]/div[3]/span[4]/a/img').click()\n",
    "    page_num = page_num + 1"
   ]
  },
  {
   "cell_type": "code",
   "execution_count": 7,
   "metadata": {},
   "outputs": [],
   "source": [
    "# 전체 데이터프레임으로 병합\n",
    "ARTICLE_LIST = pd.concat(df_list)\n",
    "# 인덱스 재정렬\n",
    "ARTICLE_LIST.reset_index(drop=True, inplace=True)"
   ]
  },
  {
   "cell_type": "code",
   "execution_count": 8,
   "metadata": {},
   "outputs": [
    {
     "name": "stdout",
     "output_type": "stream",
     "text": [
      "                                    TITLE\n",
      "0                               부동산 투기 근절\n",
      "1                         역사적 교육과정 개정과 개발\n",
      "2            인천광역시의 정신 건강 서비스 지원을 확충해주세요.\n",
      "3                      동남아쪽 가정부를 합법해주세요!!\n",
      "4                       등교개학으로 인한 불안함 해결법\n",
      "..                                    ...\n",
      "995                            코로나 방역법 개정\n",
      "996                   군정 행정추진에 효율성을 제안합니다\n",
      "997  경로당 실내공기질 상시 측정기의 측정 항목 용어 해설 안내문 부착\n",
      "998                              교통불편신고엽서\n",
      "999                            시내버스안 담배냄새\n",
      "\n",
      "[1000 rows x 1 columns]\n"
     ]
    }
   ],
   "source": [
    "# 전체 데이터프레임 확인\n",
    "print(ARTICLE_LIST)"
   ]
  },
  {
   "cell_type": "code",
   "execution_count": 9,
   "metadata": {},
   "outputs": [],
   "source": [
    "# 전체 데이터프레임 엑셀로 저장\n",
    "save_excel(ARTICLE_LIST)"
   ]
  }
 ],
 "metadata": {
  "kernelspec": {
   "display_name": "Python 3",
   "language": "python",
   "name": "python3"
  },
  "language_info": {
   "codemirror_mode": {
    "name": "ipython",
    "version": 3
   },
   "file_extension": ".py",
   "mimetype": "text/x-python",
   "name": "python",
   "nbconvert_exporter": "python",
   "pygments_lexer": "ipython3",
   "version": "3.7.4"
  }
 },
 "nbformat": 4,
 "nbformat_minor": 4
}
